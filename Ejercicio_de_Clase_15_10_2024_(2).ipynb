{
  "nbformat": 4,
  "nbformat_minor": 0,
  "metadata": {
    "colab": {
      "provenance": [],
      "include_colab_link": true
    },
    "kernelspec": {
      "name": "python3",
      "display_name": "Python 3"
    },
    "language_info": {
      "name": "python"
    }
  },
  "cells": [
    {
      "cell_type": "markdown",
      "metadata": {
        "id": "view-in-github",
        "colab_type": "text"
      },
      "source": [
        "<a href=\"https://colab.research.google.com/github/pau468/PROGCOM_ESTRUCTURAS-SELECCI-N/blob/main/Ejercicio_de_Clase_15_10_2024_(2).ipynb\" target=\"_parent\"><img src=\"https://colab.research.google.com/assets/colab-badge.svg\" alt=\"Open In Colab\"/></a>"
      ]
    },
    {
      "cell_type": "code",
      "execution_count": null,
      "metadata": {
        "colab": {
          "base_uri": "https://localhost:8080/"
        },
        "id": "gzLIkwGdnA4s",
        "outputId": "c20c4d0e-f268-4b0d-dba3-02c29e419e86"
      },
      "outputs": [
        {
          "output_type": "stream",
          "name": "stdout",
          "text": [
            "Ingrese los datos del estudiante 1:\n",
            "Nombre del estudiante: majo\n",
            "Nota 1: 70\n",
            "Nota 2: 80\n",
            "Nota 3: 0\n",
            "Ingrese los datos del estudiante 2:\n",
            "Nombre del estudiante: Pau\n",
            "Nota 1: 90\n",
            "Nota 2: 90\n",
            "Nota 3: 90\n",
            "\n",
            "REPORTE DE CALIFICACIONES\n",
            "NOMBRE\tNOTA1\tNOTA2\tNOTA3\tNOTA FINAL\n",
            "--------------------------------------------------\n",
            "majo\t70.0\t80.0\t0.0\tNA (No Acreditado)\n",
            "Pau\t90.0\t90.0\t90.0\t90.00\n",
            "\n",
            "TOTAL 2 ESTUDIANTES\n",
            "2\n"
          ]
        }
      ],
      "source": [
        "class Estudiante:\n",
        "    def __init__(self, nombre):\n",
        "        self.nombre = nombre\n",
        "        self._nota1 = 0\n",
        "        self._nota2 = 0\n",
        "        self._nota3 = 0\n",
        "\n",
        "    @property\n",
        "    def nota1(self):\n",
        "        return self._nota1\n",
        "\n",
        "    @nota1.setter\n",
        "    def nota1(self, valor):\n",
        "        if 0 <= valor <= 100:\n",
        "            self._nota1 = valor\n",
        "        else:\n",
        "            raise ValueError(\"La nota debe estar entre 0 y 100.\")\n",
        "\n",
        "    @property\n",
        "    def nota2(self):\n",
        "        return self._nota2\n",
        "\n",
        "    @nota2.setter\n",
        "    def nota2(self, valor):\n",
        "        if 0 <= valor <= 100:\n",
        "            self._nota2 = valor\n",
        "        else:\n",
        "            raise ValueError(\"La nota debe estar entre 0 y 100.\")\n",
        "\n",
        "    @property\n",
        "    def nota3(self):\n",
        "        return self._nota3\n",
        "\n",
        "    @nota3.setter\n",
        "    def nota3(self, valor):\n",
        "        if 0 <= valor <= 100:\n",
        "            self._nota3 = valor\n",
        "        else:\n",
        "            raise ValueError(\"La nota debe estar entre 0 y 100.\")\n",
        "\n",
        "    def calcular_nota_final(self):\n",
        "        if self.nota1 >= 70 and self.nota2 >= 70 and self.nota3 >= 70:\n",
        "            return (self.nota1 + self.nota2 + self.nota3) / 3\n",
        "        else:\n",
        "            return None\n",
        "\n",
        "\n",
        "class Salon:\n",
        "    def __init__(self):\n",
        "        self.estudiantes = []\n",
        "\n",
        "    def agregar_estudiante(self, estudiante):\n",
        "        self.estudiantes.append(estudiante)\n",
        "\n",
        "    def imprimir_reporte(self):\n",
        "        print(\"\\nREPORTE DE CALIFICACIONES\")\n",
        "        print(\"NOMBRE\\tNOTA1\\tNOTA2\\tNOTA3\\tNOTA FINAL\")\n",
        "        print(\"--------------------------------------------------\")\n",
        "\n",
        "        for estudiante in self.estudiantes:\n",
        "            nota_final = estudiante.calcular_nota_final()\n",
        "            if nota_final is not None:\n",
        "                print(f\"{estudiante.nombre}\\t{estudiante.nota1}\\t{estudiante.nota2}\\t{estudiante.nota3}\\t{nota_final:.2f}\")\n",
        "            else:\n",
        "                print(f\"{estudiante.nombre}\\t{estudiante.nota1}\\t{estudiante.nota2}\\t{estudiante.nota3}\\tNA (No Acreditado)\")\n",
        "\n",
        "        total_estudiantes = len(self.estudiantes)\n",
        "        print(f\"\\nTOTAL {total_estudiantes} ESTUDIANTES\")\n",
        "        print(total_estudiantes)\n",
        "\n",
        "\n",
        "# Programa principal\n",
        "def main():\n",
        "    salon = Salon()\n",
        "\n",
        "    for i in range(28):\n",
        "        print(f\"Ingrese los datos del estudiante {i + 1}:\")\n",
        "        nombre = input(\"Nombre del estudiante: \")\n",
        "        estudiante = Estudiante(nombre)\n",
        "\n",
        "        estudiante.nota1 = float(input(\"Nota 1: \"))\n",
        "        estudiante.nota2 = float(input(\"Nota 2: \"))\n",
        "        estudiante.nota3 = float(input(\"Nota 3: \"))\n",
        "\n",
        "\n",
        "        salon.agregar_estudiante(estudiante)\n",
        "\n",
        "    salon.imprimir_reporte()\n",
        "\n",
        "\n",
        "if __name__ == \"__main__\":\n",
        "    main()\n",
        "\n"
      ]
    }
  ]
}