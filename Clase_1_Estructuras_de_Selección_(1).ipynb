{
  "nbformat": 4,
  "nbformat_minor": 0,
  "metadata": {
    "colab": {
      "provenance": []
    },
    "kernelspec": {
      "name": "python3",
      "display_name": "Python 3"
    },
    "language_info": {
      "name": "python"
    }
  },
  "cells": [
    {
      "cell_type": "code",
      "execution_count": null,
      "metadata": {
        "colab": {
          "base_uri": "https://localhost:8080/"
        },
        "id": "ycL62FEq-o29",
        "outputId": "39e3aa44-c4b9-4c24-dfdf-60c8359bf179"
      },
      "outputs": [
        {
          "output_type": "stream",
          "name": "stdout",
          "text": [
            "Quieres aprender a programar? si\n",
            "Empieza haciendo ejercicios\n"
          ]
        }
      ],
      "source": [
        "respuesta=input(\"Quieres aprender a programar? \")\n",
        "if respuesta == \"si\":\n",
        "  print(\"Empieza haciendo ejercicios\")\n",
        "else:\n",
        "    print(\"Reconsideralo\")"
      ]
    },
    {
      "cell_type": "markdown",
      "source": [
        "#Estructuras de selección\n",
        "\n",
        "1. Si - sino: if - else\n",
        "2. Operador terniario\n",
        "3. Estructura switch\n",
        "\n",
        "\n",
        "*   if/elif/else\n",
        "*   match - case\n",
        "\n"
      ],
      "metadata": {
        "id": "7SCBMil2Di1o"
      }
    },
    {
      "cell_type": "code",
      "source": [
        "#Las dos variables no eran iguales (Respuesta - respuesta)\n",
        "#Las variables se escriben en minuscula\n",
        "#if y else van en minúscula\n",
        "\n",
        "respuesta=input(\"Quieres aprender a programar? \").capitalize()\n",
        "if respuesta == \"Sí\":\n",
        "  #Estamos dentro del si\n",
        "  print(\"Empieza haciendo ejercicios\")\n",
        "else:\n",
        "  #Estamos dentro del si-no\n",
        "    print(\"Reconsidéralo\")"
      ],
      "metadata": {
        "colab": {
          "base_uri": "https://localhost:8080/"
        },
        "id": "5AA2VbgQ_9NR",
        "outputId": "ffe6b76d-6a29-4bc0-9c25-f92325b42013"
      },
      "execution_count": null,
      "outputs": [
        {
          "output_type": "stream",
          "name": "stdout",
          "text": [
            "Quieres aprender a programar? Sí\n",
            "Empieza haciendo ejercicios\n"
          ]
        }
      ]
    },
    {
      "cell_type": "markdown",
      "source": [
        "#If and else"
      ],
      "metadata": {
        "id": "xQkiCVxRVNDT"
      }
    },
    {
      "cell_type": "markdown",
      "source": [
        "#Ejercicios de practica\n",
        "\n",
        "1. Dividir dos números siempre y cuando el denominador no sea 0\n",
        "2. Definir si un número es mayor que 5 y menor a 15.\n",
        "3. Definir si un número es mayor que n y menor o igual que m.\n",
        "4. Definir si una letra es m o no.\n",
        "5. Verificar si un número es impar o par.\n",
        "6. Decrementa en 1 una unidad, si x es mayor que 5."
      ],
      "metadata": {
        "id": "FwjNsWOQGFzm"
      }
    },
    {
      "cell_type": "code",
      "source": [
        "# 3. Definir si un número es mayor que n y menor o igual que m.\n",
        "\n",
        "n = int(input(\"Ingrese un número: \"))\n",
        "m = int(input(\"Ingrese un número: \"))\n",
        "x = int(input(\"Ingrese un número: \"))"
      ],
      "metadata": {
        "colab": {
          "base_uri": "https://localhost:8080/"
        },
        "id": "SpOMbTxuH8wV",
        "outputId": "28c58195-9358-4f11-f365-1ea245ecb8c3"
      },
      "execution_count": null,
      "outputs": [
        {
          "name": "stdout",
          "output_type": "stream",
          "text": [
            "Ingrese un número: 8\n",
            "Ingrese un número: 5\n",
            "Ingrese un número: 2\n"
          ]
        }
      ]
    },
    {
      "cell_type": "code",
      "source": [
        "# 3. Definir si un número es mayor que n y menor o igual que m.\n",
        "\n",
        "if x>n and x<=m:\n",
        "  print(f\"El número {x} es mayor que {n} y menor o igual que {m} \")\n",
        "elif x>n and x>=m:\n",
        "  print(f\"El número {x} es mayor que {n}, pero no es menor o igual que {m}\")\n",
        "elif x<n and x<=m:\n",
        "  print(f\"El número {x} no es mayor que {n}, pero si es menor o igual que {m}\")\n",
        "else:\n",
        "  print(f\"El número {x} no es mayor que {n} y no es menor o igual que {m}\")"
      ],
      "metadata": {
        "colab": {
          "base_uri": "https://localhost:8080/"
        },
        "id": "vMJOPh9SGA6O",
        "outputId": "660eefdc-19af-4887-e663-ee3f17ff1b4e"
      },
      "execution_count": null,
      "outputs": [
        {
          "output_type": "stream",
          "name": "stdout",
          "text": [
            "El número 2 no es mayor que 8, pero si es menor o igual que 5\n"
          ]
        }
      ]
    },
    {
      "cell_type": "code",
      "source": [
        "if x>n and x<=m:\n",
        "  print(f\"El número {x} es mayor que {n} y menor o igual que {m} \")\n",
        "else:\n",
        "  if x>n:\n",
        "    print(f\"El número {x} es mayor que {n}, pero no es menor o igual que {m}\")\n",
        "  else:\n",
        "    print(f\"El número {x} no es mayor que {n}, pero si es menor o igual que {m}\")"
      ],
      "metadata": {
        "colab": {
          "base_uri": "https://localhost:8080/"
        },
        "id": "PfsXVSUcHp2L",
        "outputId": "bc4edfff-7f6a-4da0-9162-4a8100ceb324"
      },
      "execution_count": null,
      "outputs": [
        {
          "output_type": "stream",
          "name": "stdout",
          "text": [
            "El número 2 no es mayor que 8, pero si es menor o igual que 5\n"
          ]
        }
      ]
    },
    {
      "cell_type": "code",
      "source": [
        "# 4. Definir si una letra es m o no.\n",
        "\n",
        "letra = (input(\"Ingrese una letra: \"))\n",
        "if letra == \"m\" or letra == \"M\":\n",
        "  print(\"Ingresaste una m\")\n",
        "else:\n",
        "  print(\"No ingresaste una m\")"
      ],
      "metadata": {
        "colab": {
          "base_uri": "https://localhost:8080/"
        },
        "id": "vb8EGKqBN80l",
        "outputId": "5ce8acc6-901b-4d91-feff-bd7bd5861e67"
      },
      "execution_count": null,
      "outputs": [
        {
          "output_type": "stream",
          "name": "stdout",
          "text": [
            "Ingrese una letra: m\n",
            "Ingresaste una m\n"
          ]
        }
      ]
    },
    {
      "cell_type": "code",
      "source": [
        "# 4. Definir si una letra es m o no.\n",
        "\n",
        "letra = (input(\"Ingrese una letra: \")).lower()\n",
        "if letra == \"m\":\n",
        "  print(\"Ingresaste una m\")\n",
        "else:\n",
        "  print(\"No ingresaste una m\")"
      ],
      "metadata": {
        "colab": {
          "base_uri": "https://localhost:8080/"
        },
        "id": "1JRaRcjpO80u",
        "outputId": "462bee29-5b7c-4244-9529-fa797c16c609"
      },
      "execution_count": null,
      "outputs": [
        {
          "output_type": "stream",
          "name": "stdout",
          "text": [
            "Ingrese una letra: k\n",
            "No ingresaste una m\n"
          ]
        }
      ]
    },
    {
      "cell_type": "code",
      "source": [
        "# 6. Decrementa en 1 una unidad, si x es mayor que 5.\n",
        "\n",
        "numero = int(input(\"Ingrese un número: \"))\n",
        "if numero > 5:\n",
        "  print(f\"El nuevo número es {numero - 1}\")\n",
        "else:\n",
        "  print(f\"El número {numero} no es mayor que 5\")"
      ],
      "metadata": {
        "colab": {
          "base_uri": "https://localhost:8080/"
        },
        "id": "JFRE4towPR1-",
        "outputId": "39f89252-4e38-4efb-a976-ed7e3565321b"
      },
      "execution_count": null,
      "outputs": [
        {
          "output_type": "stream",
          "name": "stdout",
          "text": [
            "Ingrese un número: 2\n",
            "El número 2 no es mayor que 5\n"
          ]
        }
      ]
    },
    {
      "cell_type": "code",
      "source": [
        "#1. Dividir dos números siempre y cuando el denominador no sea 0\n",
        "\n",
        "x=int(input(\"Ingrese el número que quiere dividir: \"))\n",
        "y=int(input(\"Ingrese el número sobre el cual quiere dividir: \"))\n",
        "\n",
        "if y==0:\n",
        "  print(\"No se puede dividir entre 0\")\n",
        "else:\n",
        "  print(f\"El resultado de la división es {x/y} \")"
      ],
      "metadata": {
        "colab": {
          "base_uri": "https://localhost:8080/"
        },
        "id": "xP32YgMnQFxO",
        "outputId": "a3303e14-053f-44c3-82ce-b992e3927703"
      },
      "execution_count": null,
      "outputs": [
        {
          "output_type": "stream",
          "name": "stdout",
          "text": [
            "Ingrese el número que quiere dividir: 5\n",
            "Ingrese el número sobre el cual quiere dividir: 3\n",
            "El resultado de la división es 1.6666666666666667 \n"
          ]
        }
      ]
    },
    {
      "cell_type": "code",
      "source": [
        "#2. Definir si un número es mayor que 5 y menor a 15.\n",
        "\n",
        "numero = int(input(\"Ingrese un número: \"))\n",
        "if numero > 5 and numero < 15:\n",
        "  print(f\"El número {numero} es mayor que 5 y menor a 15\")\n",
        "else:\n",
        "  if numero > 5:\n",
        "    print(f\"El número {numero} es mayor que 5, pero no es menor a 15\")\n",
        "  else:\n",
        "    print(f\"El número {numero} es menor que 15, pero no es mayor que 5\")\n"
      ],
      "metadata": {
        "colab": {
          "base_uri": "https://localhost:8080/"
        },
        "id": "PHJj_vBmQgb1",
        "outputId": "166dfbbf-8ffd-4ed6-af76-ef3d9ec4072e"
      },
      "execution_count": null,
      "outputs": [
        {
          "output_type": "stream",
          "name": "stdout",
          "text": [
            "Ingrese un número: 25\n",
            "El número 25 es mayor que 5, pero no es menor a 15\n"
          ]
        }
      ]
    },
    {
      "cell_type": "code",
      "source": [
        "#5. Verificar si un número es impar o par.\n",
        "\n",
        "numero = int(input(\"Ingrese un número: \"))\n",
        "if numero % 2 == 0:\n",
        "  print(f\"El número {numero} es par\")\n",
        "else:\n",
        "  print(f\"El número {numero} es impar\")"
      ],
      "metadata": {
        "colab": {
          "base_uri": "https://localhost:8080/"
        },
        "id": "uWDsvCOiQ5a9",
        "outputId": "dbee53e6-6aaf-4d1b-8ca8-e2c77a8427e0"
      },
      "execution_count": null,
      "outputs": [
        {
          "output_type": "stream",
          "name": "stdout",
          "text": [
            "Ingrese un número: 2\n",
            "El número 2 es par\n"
          ]
        }
      ]
    },
    {
      "cell_type": "markdown",
      "source": [
        "#Operador Terniario\n",
        "\n",
        "1. Acción si se cumple la condición\n",
        "2. Condición\n",
        "3. Else\n",
        "4. Acción si no se cumple la condición"
      ],
      "metadata": {
        "id": "kuq1vLZtVQ-L"
      }
    },
    {
      "cell_type": "code",
      "source": [
        "\n",
        "respuesta=input(\"Quieres aprender a programar? \").capitalize()\n",
        "if respuesta == \"Sí\":\n",
        "\n",
        "  print(\"Empieza haciendo ejercicios\")\n",
        "else:\n",
        "    print(\"Reconsidéralo\")"
      ],
      "metadata": {
        "id": "gQgARmZzSO9M"
      },
      "execution_count": null,
      "outputs": []
    },
    {
      "cell_type": "code",
      "source": [
        "#Operador terniario\n",
        "\n",
        "respuesta=input(\"Deseas aprender a programar? \").capitalize()\n",
        "a=\"Empieza a hacer ejercicios\" if respuesta == \"sí\" else \"Reconsidéralo\"\n",
        "print(a)"
      ],
      "metadata": {
        "colab": {
          "base_uri": "https://localhost:8080/"
        },
        "id": "B2OuDV1GVaAf",
        "outputId": "415bd5f9-623d-4e6c-eb2f-0b1d748338b5"
      },
      "execution_count": null,
      "outputs": [
        {
          "output_type": "stream",
          "name": "stdout",
          "text": [
            "Deseas aprender a programar? sí\n",
            "Reconsidéralo\n"
          ]
        }
      ]
    },
    {
      "cell_type": "code",
      "source": [
        "# 4. Definir si una letra es m o no.\n",
        "\n",
        "letra = (input(\"Ingrese una letra: \")).lower()\n",
        "if letra == \"m\":\n",
        "  print(\"Ingresaste una m\")\n",
        "else:\n",
        "  print(\"No ingresaste una m\")"
      ],
      "metadata": {
        "id": "4_JDJuuVacUf"
      },
      "execution_count": null,
      "outputs": []
    },
    {
      "cell_type": "code",
      "source": [
        "#Operador terniario\n",
        "\n",
        "letra = (input(\"Ingrese una letra: \")).lower()\n",
        "print(\"Ingresaste una m\") if letra == \"m\" else print(\"No ingresaste una m\")"
      ],
      "metadata": {
        "colab": {
          "base_uri": "https://localhost:8080/"
        },
        "id": "42zc7jrzVytp",
        "outputId": "72c9c514-7822-4864-8641-55e2c7584f11"
      },
      "execution_count": null,
      "outputs": [
        {
          "output_type": "stream",
          "name": "stdout",
          "text": [
            "Ingrese una letra: M\n",
            "Ingresaste una m\n"
          ]
        }
      ]
    },
    {
      "cell_type": "code",
      "source": [
        "# 3. Definir si un número es mayor que n y menor o igual que m.\n",
        "\n",
        "if x>n and x<=m:\n",
        "  print(f\"El número {x} es mayor que {n} y menor o igual que {m} \")\n",
        "else:\n",
        "  if x>n:\n",
        "    print(f\"El número {x} es mayor que {n}, pero no es menor o igual que {m}\")\n",
        "  else:\n",
        "    print(f\"El número {x} no es mayor que {n}, pero si es menor o igual que {m}\")"
      ],
      "metadata": {
        "id": "wDaVAkPQWF6q"
      },
      "execution_count": null,
      "outputs": []
    },
    {
      "cell_type": "code",
      "source": [
        "#Operador terniario\n",
        "\n",
        "b = print(f\"El número {x} es mayor que {n}, pero no es menor o igual que {m}\") if x>n else print(f\"El número {x} no es mayor que {n}, pero si es menor o igual que {m}\")\n",
        "print(f\"El número {x} es mayor que {n} y menor o igual que {m} \") if x>n and x<=m else b\n"
      ],
      "metadata": {
        "colab": {
          "base_uri": "https://localhost:8080/"
        },
        "id": "Tk9theQuaw-V",
        "outputId": "650eb3d7-6079-4f8c-c331-d50994a33e02"
      },
      "execution_count": null,
      "outputs": [
        {
          "output_type": "stream",
          "name": "stdout",
          "text": [
            "El número 5 no es mayor que 8, pero si es menor o igual que 5\n"
          ]
        }
      ]
    },
    {
      "cell_type": "code",
      "source": [
        "# 6. Decrementa en 1 una unidad, si x es mayor que 5.\n",
        "\n",
        "numero = int(input(\"Ingrese un número: \"))\n",
        "if numero > 5:\n",
        "  print(f\"El nuevo número es {numero - 1}\")\n",
        "else:\n",
        "  print(f\"El número {numero} no es mayor que 5\")"
      ],
      "metadata": {
        "id": "h87Vrwpqa8GF"
      },
      "execution_count": null,
      "outputs": []
    },
    {
      "cell_type": "code",
      "source": [
        "c = print(f\"El nuevo número es {numero - 1}\") if numero > 5 else print(f\"El número {numero} no es mayor que 5\")"
      ],
      "metadata": {
        "colab": {
          "base_uri": "https://localhost:8080/"
        },
        "id": "loiIPh7aa_Vd",
        "outputId": "0ceecb91-ff5c-4b54-d9ff-187deb3cdedb"
      },
      "execution_count": null,
      "outputs": [
        {
          "output_type": "stream",
          "name": "stdout",
          "text": [
            "El número 2 no es mayor que 5\n"
          ]
        }
      ]
    },
    {
      "cell_type": "code",
      "source": [
        "#1. Dividir dos números siempre y cuando el denominador no sea 0\n",
        "\n",
        "x=int(input(\"Ingrese el número que quiere dividir: \"))\n",
        "y=int(input(\"Ingrese el número sobre el cual quiere dividir: \"))\n",
        "\n",
        "if y==0:\n",
        "  print(\"No se puede dividir entre 0\")\n",
        "else:\n",
        "  print(f\"El resultado de la división es {x/y} \")"
      ],
      "metadata": {
        "id": "cr20Hm0TcX3z"
      },
      "execution_count": null,
      "outputs": []
    },
    {
      "cell_type": "code",
      "source": [
        "d = print(\"No se puede dividir entre 0\") if y==0 else print(f\"El resultado de la división es {x/y} \")"
      ],
      "metadata": {
        "colab": {
          "base_uri": "https://localhost:8080/"
        },
        "id": "OKbTduUmczD8",
        "outputId": "f73a8318-4113-46ec-8044-5c473184a3cd"
      },
      "execution_count": null,
      "outputs": [
        {
          "output_type": "stream",
          "name": "stdout",
          "text": [
            "El resultado de la división es 1.6666666666666667 \n"
          ]
        }
      ]
    },
    {
      "cell_type": "code",
      "source": [
        "#2. Definir si un número es mayor que 5 y menor a 15.\n",
        "\n",
        "numero = int(input(\"Ingrese un número: \"))\n",
        "if numero > 5 and numero < 15:\n",
        "  print(f\"El número {numero} es mayor que 5 y menor a 15\")\n",
        "else:\n",
        "  if numero > 5:\n",
        "    print(f\"El número {numero} es mayor que 5, pero no es menor a 15\")\n",
        "  else:\n",
        "    print(f\"El número {numero} es menor que 15, pero no es mayor que 5\")"
      ],
      "metadata": {
        "id": "Mil24thbc7jD"
      },
      "execution_count": null,
      "outputs": []
    },
    {
      "cell_type": "code",
      "source": [
        "e = print(f\"El número {numero} es mayor que 5, pero no es menor a 15\") if numero > 5 else print(f\"El número {numero} es menor que 15, pero no es mayor que 5\")\n",
        "f = print(f\"El número {numero} es mayor que 5 y menor a 15\") if numero > 5 and numero < 15 else e"
      ],
      "metadata": {
        "colab": {
          "base_uri": "https://localhost:8080/"
        },
        "id": "ILfr_T_IdCVj",
        "outputId": "87c97982-69f5-4e2d-a203-60d4556c15e6"
      },
      "execution_count": null,
      "outputs": [
        {
          "output_type": "stream",
          "name": "stdout",
          "text": [
            "El número 2 es menor que 15, pero no es mayor que 5\n"
          ]
        }
      ]
    },
    {
      "cell_type": "code",
      "source": [
        "#5. Verificar si un número es impar o par.\n",
        "\n",
        "numero = int(input(\"Ingrese un número: \"))\n",
        "if numero % 2 == 0:\n",
        "  print(f\"El número {numero} es par\")\n",
        "else:\n",
        "  print(f\"El número {numero} es impar\")"
      ],
      "metadata": {
        "id": "9ztdadHKdNGi"
      },
      "execution_count": null,
      "outputs": []
    },
    {
      "cell_type": "code",
      "source": [
        "g = print(f\"El número {numero} es par\") if numero % 2 == 0 else print(f\"El número {numero} es impar\")"
      ],
      "metadata": {
        "colab": {
          "base_uri": "https://localhost:8080/"
        },
        "id": "SHX_iZT7deXQ",
        "outputId": "e2c19a66-5f6e-4dd4-beaf-3ef1e0739252"
      },
      "execution_count": null,
      "outputs": [
        {
          "output_type": "stream",
          "name": "stdout",
          "text": [
            "El número 2 es par\n"
          ]
        }
      ]
    },
    {
      "cell_type": "code",
      "source": [],
      "metadata": {
        "id": "vpxldz6CdpAC"
      },
      "execution_count": null,
      "outputs": []
    }
  ]
}