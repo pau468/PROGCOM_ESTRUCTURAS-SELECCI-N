{
  "nbformat": 4,
  "nbformat_minor": 0,
  "metadata": {
    "colab": {
      "provenance": [],
      "include_colab_link": true
    },
    "kernelspec": {
      "name": "python3",
      "display_name": "Python 3"
    },
    "language_info": {
      "name": "python"
    }
  },
  "cells": [
    {
      "cell_type": "markdown",
      "metadata": {
        "id": "view-in-github",
        "colab_type": "text"
      },
      "source": [
        "<a href=\"https://colab.research.google.com/github/pau468/PROGCOM_ESTRUCTURAS-SELECCI-N/blob/main/Ejercicios_Listas_%26_Diccionarios_Python_Paula_09_10_2024.ipynb\" target=\"_parent\"><img src=\"https://colab.research.google.com/assets/colab-badge.svg\" alt=\"Open In Colab\"/></a>"
      ]
    },
    {
      "cell_type": "markdown",
      "source": [
        "#**Ejercicios de Listas**"
      ],
      "metadata": {
        "id": "QbSGntNPrZ87"
      }
    },
    {
      "cell_type": "markdown",
      "source": [
        "1. Dada la lista: list1 = [100, 200, 300, 400, 500], se desea que imprima [500, 400, 300,\n",
        "200, 100]"
      ],
      "metadata": {
        "id": "PRWkGKv4xbef"
      }
    },
    {
      "cell_type": "code",
      "execution_count": null,
      "metadata": {
        "id": "O2Xqegb7we7o"
      },
      "outputs": [],
      "source": [
        "#Usando reverse()\n",
        "list1 = [100, 200, 300, 400, 500]\n",
        "list1.reverse()\n",
        "print(list1)  # [500, 400, 300, 200, 100]\n"
      ]
    },
    {
      "cell_type": "markdown",
      "source": [
        "2. Escriba un programa que unas dos listas, de tal forma que\n",
        "lista1 = [\"M\", \"nom\", \"e\", \"e\"]\n",
        "lista2 = [\"i\", \"bre\", \"s\", “quis\"]\n",
        "da como resultado ['Mi', 'nombre', 'es', 'equis'] (reemplazar el nombre por el del\n",
        "estudiante)\n"
      ],
      "metadata": {
        "id": "Izmr6zMbxldg"
      }
    },
    {
      "cell_type": "code",
      "source": [
        "# Listas de ejemplo\n",
        "lista1 = [\"M\", \"nom\", \"e\", \"e\"]\n",
        "lista2 = [\"i\", \"bre\", \"s\", \"quis\"]\n",
        "\n",
        "# Combinar las listas\n",
        "resultado = []\n",
        "for i in range(len(lista1)):\n",
        "    resultado.append(lista1[i] + lista2[i])\n",
        "\n",
        "# Reemplazar \"nombre\" por el nombre del estudiante\n",
        "nombre_estudiante = \"Juan\"  # Cambia \"Juan\" por el nombre que desees\n",
        "resultado[1] = nombre_estudiante  # Reemplaza \"nombre\"\n",
        "\n",
        "# Imprimir el resultado\n",
        "print(resultado)  # ['Mi', 'Juan', 'es', 'equis']\n"
      ],
      "metadata": {
        "id": "PwJQFfmGxtYt"
      },
      "execution_count": null,
      "outputs": []
    },
    {
      "cell_type": "markdown",
      "source": [
        "3. Desarrolle un programa que calcule el doble de cada uno de los elementos de una\n",
        "lista. Ejemplo: si la lista es [1, 2, 3, 4, 5, 6, 7] da como resultado [1, 4, 9, 16, 25, 36,\n",
        "49].\n"
      ],
      "metadata": {
        "id": "7WCdlKuMx6lN"
      }
    },
    {
      "cell_type": "code",
      "source": [
        "# Lista de ejemplo\n",
        "lista = [1, 2, 3, 4, 5, 6, 7]\n",
        "\n",
        "# Calcular el cuadrado de cada elemento\n",
        "resultado = [x**2 for x in lista]\n",
        "\n",
        "# Imprimir el resultado\n",
        "print(resultado)  # [1, 4, 9, 16, 25, 36, 49]\n"
      ],
      "metadata": {
        "id": "Rj1yKVQsyEou"
      },
      "execution_count": null,
      "outputs": []
    },
    {
      "cell_type": "markdown",
      "source": [
        "4. Dadas dos listas\n",
        "a. lista1 = [\"Hola \", \"toma \"]\n",
        "b. lista2 = [\"Querido\", \"Señor\"]\n",
        "desarrollar un programe que de como resultado [“Hola Querido” , “Hola Señor” ,\n",
        "'toma Querido” , 'toma Señor']\n",
        "\n"
      ],
      "metadata": {
        "id": "mmt7xptnyD2c"
      }
    },
    {
      "cell_type": "code",
      "source": [
        "# Listas de ejemplo\n",
        "lista1 = [\"Hola \", \"toma \"]\n",
        "lista2 = [\"Querido\", \"Señor\"]\n",
        "\n",
        "# Crear una lista para almacenar el resultado\n",
        "resultado = []\n",
        "\n",
        "# Combinar las listas\n",
        "for saludo in lista1:\n",
        "    for destinatario in lista2:\n",
        "        resultado.append(saludo + destinatario)\n",
        "\n",
        "# Imprimir el resultado\n",
        "print(resultado)  # ['Hola Querido', 'Hola Señor', 'toma Querido', 'toma Señor']\n"
      ],
      "metadata": {
        "id": "S-pqV7v3yJ3L"
      },
      "execution_count": null,
      "outputs": []
    },
    {
      "cell_type": "markdown",
      "source": [
        "5. Dadas dos listas\n",
        "list1 = [10, 20, 30, 40]\n",
        "list2 = [100, 200, 300, 400]\n",
        "se desea construir un programa que imprima\n",
        "10 400\n",
        "20 300\n",
        "30 200\n",
        "40 100\n"
      ],
      "metadata": {
        "id": "dWgVjYQiyOZR"
      }
    },
    {
      "cell_type": "code",
      "source": [
        "# Listas de ejemplo\n",
        "list1 = [10, 20, 30, 40]\n",
        "list2 = [100, 200, 300, 400]\n",
        "\n",
        "# Imprimir los elementos en el formato deseado\n",
        "for i in range(len(list1)):\n",
        "    print(list1[i], list2[len(list2) - 1 - i])\n"
      ],
      "metadata": {
        "id": "bafa3sIpyRSQ"
      },
      "execution_count": null,
      "outputs": []
    },
    {
      "cell_type": "markdown",
      "source": [
        "6. Dada la lista [\"Mike\", \"\", \"Emma\", \"Kelly\", \"\", \"Brad\"] se desea un programa que\n",
        "elimine el elemento vacío.\n"
      ],
      "metadata": {
        "id": "IDtkB81tyXAV"
      }
    },
    {
      "cell_type": "code",
      "source": [
        "# Lista de ejemplo\n",
        "lista = [\"Mike\", \"\", \"Emma\", \"Kelly\", \"\", \"Brad\"]\n",
        "\n",
        "# Eliminar elementos vacíos\n",
        "resultado = list(filter(None, lista))\n",
        "\n",
        "# Imprimir el resultado\n",
        "print(resultado)  # ['Mike', 'Emma', 'Kelly', 'Brad']\n"
      ],
      "metadata": {
        "id": "UFsKBL2AyWlr"
      },
      "execution_count": null,
      "outputs": []
    },
    {
      "cell_type": "markdown",
      "source": [
        "7. Dada la lista [10, 20, [300, 400, [5000, 6000], 500], 30, 40] se desea un programa\n",
        "que genere el siguiente resultado: [10, 20, [300, 400, [5000, 6000, 7000], 500], 30,\n",
        "40]\n"
      ],
      "metadata": {
        "id": "mgmiH84jyguu"
      }
    },
    {
      "cell_type": "code",
      "source": [
        "# Lista de ejemplo\n",
        "lista = [10, 20, [300, 400, [5000, 6000], 500], 30, 40]\n",
        "\n",
        "# Agregar 7000 a la lista anidada\n",
        "lista[2][2].append(7000)\n",
        "\n",
        "# Imprimir el resultado\n",
        "print(lista)  # [10, 20, [300, 400, [5000, 6000, 7000], 500], 30, 40]\n"
      ],
      "metadata": {
        "id": "hYtVpEpSyhOG"
      },
      "execution_count": null,
      "outputs": []
    },
    {
      "cell_type": "markdown",
      "source": [
        "8. Dada dos listas\n",
        "lista1= [\"a\", \"b\", [\"c\", [\"d\", \"e\", [\"f\", \"g\"], \"k\"], \"l\"], \"m\", \"n\"]\n",
        "lista 2= [\"h\", \"i\", \"j\"]\n",
        "se desea un programa que imprima lo siguiente:\n",
        "['a', 'b', ['c', ['d', 'e', ['f', 'g', 'h', 'i', 'j'], 'k'], 'l'], 'm', 'n']\n"
      ],
      "metadata": {
        "id": "sSlGHovgyhjB"
      }
    },
    {
      "cell_type": "code",
      "source": [
        "# Listas de ejemplo\n",
        "lista1 = [\"a\", \"b\", [\"c\", [\"d\", \"e\", [\"f\", \"g\"], \"k\"], \"l\"], \"m\", \"n\"]\n",
        "lista2 = [\"h\", \"i\", \"j\"]\n",
        "\n",
        "# Agregar los elementos de lista2 a la lista anidada en lista1\n",
        "lista1[2][1][2].extend(lista2)\n",
        "\n",
        "# Imprimir el resultado\n",
        "print(lista1)  # ['a', 'b', ['c', ['d', 'e', ['f', 'g', 'h', 'i', 'j'], 'k'], 'l'], 'm', 'n']\n"
      ],
      "metadata": {
        "id": "wZ3IziSGyh-U"
      },
      "execution_count": null,
      "outputs": []
    },
    {
      "cell_type": "markdown",
      "source": [
        "9. Dada la lista [5, 10, 15, 20, 25, 50, 20] se desea un programa que reemplace el\n",
        "número de la mitad por 200.\n"
      ],
      "metadata": {
        "id": "IxHjvDPByiXG"
      }
    },
    {
      "cell_type": "code",
      "source": [
        "# Lista de ejemplo\n",
        "lista = [5, 10, 15, 20, 25, 50, 20]\n",
        "\n",
        "# Calcular el índice del elemento del medio\n",
        "indice_medio = len(lista) // 2\n",
        "\n",
        "# Reemplazar el elemento del medio por 200\n",
        "lista[indice_medio] = 200\n",
        "\n",
        "# Imprimir el resultado\n",
        "print(lista)  # [5, 10, 15, 200, 25, 50, 20]\n"
      ],
      "metadata": {
        "id": "0NoyJMtiyiqk"
      },
      "execution_count": null,
      "outputs": []
    },
    {
      "cell_type": "markdown",
      "source": [
        "10. Construya un programa que elimine de una lista todos los duplicados. Ejemplo, si\n",
        "se tiene una lista [5, 20, 15, 20, 25, 50, 20] imprime [5, 15, 25, 50]\n"
      ],
      "metadata": {
        "id": "orAXSeaMyi6K"
      }
    },
    {
      "cell_type": "code",
      "source": [
        "# Lista de ejemplo\n",
        "lista = [5, 20, 15, 20, 25, 50, 20]\n",
        "\n",
        "# Usar un conjunto para eliminar duplicados y luego convertirlo de nuevo a lista\n",
        "lista_unicos = list(set(lista))\n",
        "\n",
        "# Imprimir el resultado\n",
        "print(lista_unicos)  # El orden puede cambiar: [5, 50, 15, 20, 25]\n"
      ],
      "metadata": {
        "id": "QW_XZSSVyjcR"
      },
      "execution_count": null,
      "outputs": []
    },
    {
      "cell_type": "markdown",
      "source": [
        "11. Construya una programa que cuente cuántas veces se repitan los elementos de una\n",
        "lista. Ejemplo, si se tiene una lista [5, 20, 15, 20, 25, 50, 20] imprima:\n",
        "5 = 1\n",
        "20 = 3\n",
        "15 = 1\n",
        "25= 1\n",
        "50 = 1\n"
      ],
      "metadata": {
        "id": "EGA8JApZzDuW"
      }
    },
    {
      "cell_type": "code",
      "source": [
        "# Lista de ejemplo\n",
        "lista = [5, 20, 15, 20, 25, 50, 20]\n",
        "\n",
        "# Crear un diccionario para contar los elementos\n",
        "contador = {}\n",
        "\n",
        "# Contar las ocurrencias de cada elemento\n",
        "for elemento in lista:\n",
        "    if elemento in contador:\n",
        "        contador[elemento] += 1\n",
        "    else:\n",
        "        contador[elemento] = 1\n",
        "\n",
        "# Imprimir los resultados\n",
        "for elemento, cantidad in contador.items():\n",
        "    print(f\"{elemento} = {cantidad}\")\n"
      ],
      "metadata": {
        "id": "JO6BORjbzECE"
      },
      "execution_count": null,
      "outputs": []
    },
    {
      "cell_type": "markdown",
      "source": [
        "12. Construya un programa que ordene los elementos de una lista de menor a mayor o\n",
        "viceversa.\n"
      ],
      "metadata": {
        "id": "U75C-7fjzElM"
      }
    },
    {
      "cell_type": "code",
      "source": [
        "# Lista de ejemplo\n",
        "lista = [50, 20, 15, 5, 25]\n",
        "\n",
        "# Ordenar de menor a mayor\n",
        "lista.sort()\n",
        "print(\"Ordenado de menor a mayor:\", lista)  # [5, 15, 20, 25, 50]\n",
        "\n",
        "# Ordenar de mayor a menor\n",
        "lista.sort(reverse=True)\n",
        "print(\"Ordenado de mayor a menor:\", lista)  # [50, 25, 20, 15, 5]\n"
      ],
      "metadata": {
        "id": "TsnWOmKCzE6Q"
      },
      "execution_count": null,
      "outputs": []
    },
    {
      "cell_type": "markdown",
      "source": [
        "13. Escriba un programa en Python que le permita al usuario obtener de una lista:\n",
        "a. La suma de todos sus elementos\n",
        "b. La multiplicación de todos sus elementos\n",
        "c. El número mayor\n",
        "d. El número menor\n"
      ],
      "metadata": {
        "id": "M0WlHDRkzFJK"
      }
    },
    {
      "cell_type": "code",
      "source": [
        "# Solicitar al usuario que ingrese los elementos de la lista\n",
        "elementos = input(\"Ingrese los elementos de la lista separados por espacios: \")\n",
        "\n",
        "# Convertir la entrada en una lista de números\n",
        "lista = [int(num) for num in elementos.split()]\n",
        "\n",
        "# Calcular la suma de todos los elementos\n",
        "suma = sum(lista)\n",
        "\n",
        "# Calcular la multiplicación de todos los elementos\n",
        "multiplicacion = 1\n",
        "for num in lista:\n",
        "    multiplicacion *= num\n",
        "\n",
        "# Encontrar el número mayor\n",
        "mayor = lista[0]\n",
        "for num in lista:\n",
        "    if num > mayor:\n",
        "        mayor = num\n",
        "\n",
        "# Encontrar el número menor\n",
        "menor = lista[0]\n",
        "for num in lista:\n",
        "    if num < menor:\n",
        "        menor = num\n",
        "\n",
        "# Imprimir los resultados\n",
        "print(f\"Suma de todos los elementos: {suma}\")\n",
        "print(f\"Multiplicación de todos los elementos: {multiplicacion}\")\n",
        "print(f\"Número mayor: {mayor}\")\n",
        "print(f\"Número menor: {menor}\")\n"
      ],
      "metadata": {
        "id": "-WFz5P-WzFk2"
      },
      "execution_count": null,
      "outputs": []
    },
    {
      "cell_type": "markdown",
      "source": [
        "14. Escriba un programa que calcule la diferencia entre dos listas.\n"
      ],
      "metadata": {
        "id": "mSESmGrDzH4s"
      }
    },
    {
      "cell_type": "code",
      "source": [
        "# Listas de ejemplo\n",
        "lista1 = [1, 2, 3, 4, 5]\n",
        "lista2 = [3, 4, 5, 6, 7]\n",
        "\n",
        "# Calcular la diferencia\n",
        "diferencia = [elemento for elemento in lista1 if elemento not in lista2]\n",
        "\n",
        "# Imprimir el resultado\n",
        "print(\"Diferencia entre las listas:\", diferencia)  # [1, 2]\n"
      ],
      "metadata": {
        "id": "DzP_XgmfzIfO"
      },
      "execution_count": null,
      "outputs": []
    },
    {
      "cell_type": "markdown",
      "source": [
        "15. Escriba un programa que permita identificar el segundo y tercer elemento menor de\n",
        "una lista de 10 elementos.\n"
      ],
      "metadata": {
        "id": "rniVFq_VzIup"
      }
    },
    {
      "cell_type": "code",
      "source": [
        "# Solicitar al usuario que ingrese los elementos de la lista\n",
        "elementos = input(\"Ingrese 10 elementos separados por espacios: \")\n",
        "\n",
        "# Convertir la entrada en una lista de números\n",
        "lista = [int(num) for num in elementos.split()]\n",
        "\n",
        "# Asegurarse de que la lista tenga exactamente 10 elementos\n",
        "if len(lista) != 10:\n",
        "    print(\"Por favor, ingrese exactamente 10 elementos.\")\n",
        "else:\n",
        "    # Ordenar la lista\n",
        "    lista_ordenada = sorted(lista)\n",
        "\n",
        "    # Obtener el segundo y tercer elemento menor\n",
        "    segundo_menor = lista_ordenada[1]\n",
        "    tercer_menor = lista_ordenada[2]\n",
        "\n",
        "    # Imprimir los resultados\n",
        "    print(f\"Segundo elemento menor: {segundo_menor}\")\n",
        "    print(f\"Tercer elemento menor: {tercer_menor}\")\n"
      ],
      "metadata": {
        "id": "z7udxUiazJAr"
      },
      "execution_count": null,
      "outputs": []
    },
    {
      "cell_type": "markdown",
      "source": [
        "16. Crear un programa que cree múltiples listas de una lista principal, de tal forma que:\n",
        "a. La primera lista es la suma del segundo elemento con el primero.\n",
        "b. La segunda lista es la resta del segundo elemento con el primero. Si el\n",
        "número da negativo, se reemplaza con 0.\n",
        "c. La tercera lista multiplica cada uno de los elementos *2\n",
        "d. La cuarta lista eleva cada uno de los elementos al cuadrado.\n",
        "Ejemplo: Sea la lista [5, 20, 15, 20, 25, 50, 20] el programa imprime:\n",
        "Lista1= [25,35,35,45,75,70]\n",
        "Lista2=[0,0,5,5,25,0]\n",
        "Lista3=[10,40,30,40,50,100,40]\n",
        "Lista4=[25,400,225,400,625,2500,400]\n"
      ],
      "metadata": {
        "id": "4b0UoKXSzJPP"
      }
    },
    {
      "cell_type": "code",
      "source": [
        "# Lista principal\n",
        "lista_principal = [5, 20, 15, 20, 25, 50, 20]\n",
        "\n",
        "# Crear la primera lista: suma del segundo elemento con el primero\n",
        "lista1 = [lista_principal[0] + lista_principal[1]] * len(lista_principal)\n",
        "for i in range(1, len(lista_principal)):\n",
        "    lista1[i] = lista1[0]\n",
        "\n",
        "# Crear la segunda lista: resta del segundo elemento con el primero (reemplazar negativos con 0)\n",
        "lista2 = [max(0, lista_principal[1] - lista_principal[0])] * len(lista_principal)\n",
        "for i in range(1, len(lista_principal)):\n",
        "    lista2[i] = max(0, lista_principal[1] - lista_principal[i])\n",
        "\n",
        "# Crear la tercera lista: multiplicar cada elemento por 2\n",
        "lista3 = [elemento * 2 for elemento in lista_principal]\n",
        "\n",
        "# Crear la cuarta lista: elevar cada elemento al cuadrado\n",
        "lista4 = [elemento ** 2 for elemento in lista_principal]\n",
        "\n",
        "# Imprimir los resultados\n",
        "print(f\"Lista1= {lista1}\")\n",
        "print(f\"Lista2= {lista2}\")\n",
        "print(f\"Lista3= {lista3}\")\n",
        "print(f\"Lista4= {lista4}\")\n"
      ],
      "metadata": {
        "id": "TOH6fKJEzJo4"
      },
      "execution_count": null,
      "outputs": []
    },
    {
      "cell_type": "markdown",
      "source": [
        "17. Escriba un programa que separe los elementos de una lista en el n-ésimo término.\n",
        "Ejemplo: sea la lista ['a', 'b', 'c', 'd', 'e', 'f', 'g', 'h', 'i', 'j', 'k', 'l', 'm', 'n'] y si n=5 la nueva lista\n",
        "será [['a', 'd', 'g', 'j', 'm'], ['b', 'e', 'h', 'k', 'n'], ['c', 'f', 'i', 'l']]\n"
      ],
      "metadata": {
        "id": "E8VwqOFZzMRt"
      }
    },
    {
      "cell_type": "code",
      "source": [
        "# Lista original\n",
        "lista = ['a', 'b', 'c', 'd', 'e', 'f', 'g', 'h', 'i', 'j', 'k', 'l', 'm', 'n']\n",
        "\n",
        "# Solicitar al usuario que ingrese el valor de n\n",
        "n = int(input(\"Ingrese el valor de n: \"))\n",
        "\n",
        "# Crear la lista de sublistas\n",
        "resultado = [[] for _ in range(n)]\n",
        "\n",
        "# Llenar las sublistas\n",
        "for i in range(len(lista)):\n",
        "    resultado[i % n].append(lista[i])\n",
        "\n",
        "# Imprimir el resultado\n",
        "print(resultado)\n"
      ],
      "metadata": {
        "id": "R09gaB-IzMj2"
      },
      "execution_count": null,
      "outputs": []
    },
    {
      "cell_type": "markdown",
      "source": [
        "18. Escriba un programa que mueva todos los ceros al final de una lista. Ejemplo, si se\n",
        "tiene la lista [3, 4, 0, 0, 0, 6, 2, 0, 6, 7, 6, 0, 0, 0, 9, 10, 7, 4, 4, 5, 3, 0, 0, 2, 9, 7, 1] el\n",
        "resultado esperado es: [3, 4, 6, 2, 6, 7, 6, 9, 10, 7, 4, 4, 5, 3, 2, 9, 7, 1, 0, 0, 0, 0, 0, 0,\n",
        "0, 0, 0]"
      ],
      "metadata": {
        "id": "Fvp1ElIWzNBL"
      }
    },
    {
      "cell_type": "code",
      "source": [
        "# Lista original\n",
        "lista = [3, 4, 0, 0, 0, 6, 2, 0, 6, 7, 6, 0, 0, 0, 9, 10, 7, 4, 4, 5, 3, 0, 0, 2, 9, 7, 1]\n",
        "\n",
        "# Crear una nueva lista sin ceros\n",
        "lista_sin_ceros = [num for num in lista if num != 0]\n",
        "\n",
        "# Contar cuántos ceros hay\n",
        "cantidad_ceros = lista.count(0)\n",
        "\n",
        "# Agregar los ceros al final de la nueva lista\n",
        "lista_final = lista_sin_ceros + [0] * cantidad_ceros\n",
        "\n",
        "# Imprimir el resultado\n",
        "print(lista_final)\n"
      ],
      "metadata": {
        "id": "Y1NKi4S6zNVw"
      },
      "execution_count": null,
      "outputs": []
    },
    {
      "cell_type": "markdown",
      "source": [
        "#**Ejercicios de Diccionarios**"
      ],
      "metadata": {
        "id": "TwI2_iDgroxL"
      }
    },
    {
      "cell_type": "markdown",
      "source": [
        "1. Desarrolle un programa que genere un diccionario de dos listas. Ejemplo. Sean las\n",
        "listas [\"Black\", \"Red\", \"Maroon\", \"Yellow\"], [\"#000000\", \"#FF0000\", \"#800000\",\n",
        "\"#FFFF00\"], se espera: [{'color_name': 'Black', 'color_code': '#000000'},\n",
        "{'color_name': 'Red', 'color_code': '#FF0000'}, {'color_name': 'Maroon', 'color_code':\n",
        "'#800000'}, {'color_name': 'Yellow', 'color_code': '#FFFF00'}]\n"
      ],
      "metadata": {
        "id": "3a0wnss5ryI4"
      }
    },
    {
      "cell_type": "code",
      "source": [
        "# Listas de ejemplo\n",
        "nombres_colores = [\"Black\", \"Red\", \"Maroon\", \"Yellow\"]\n",
        "codigos_colores = [\"#000000\", \"#FF0000\", \"#800000\", \"#FFFF00\"]\n",
        "\n",
        "# Crear la lista de diccionarios\n",
        "lista_diccionarios = [{'color_name': nombres_colores[i], 'color_code': codigos_colores[i]} for i in range(len(nombres_colores))]\n",
        "\n",
        "# Imprimir el resultado\n",
        "print(lista_diccionarios)\n"
      ],
      "metadata": {
        "id": "w4EmjpPYr3OT"
      },
      "execution_count": null,
      "outputs": []
    },
    {
      "cell_type": "markdown",
      "source": [
        "2. Desarrolle un programa que genera el siguiente diccionario, en donde el valor es el\n",
        "cuadrado de la clave de 15 números: {1: 1, 2: 4, 3: 9, 4: 16, 5: 25, 6: 36, 7: 49, 8: 64,\n",
        "9: 81, 10: 100, 11: 121, 12: 144, 13: 169, 14: 196, 15: 225}\n"
      ],
      "metadata": {
        "id": "nEE2KZPfr3kG"
      }
    },
    {
      "cell_type": "code",
      "source": [
        "# Generar el diccionario\n",
        "diccionario = {i: i**2 for i in range(1, 16)}\n",
        "\n",
        "# Imprimir el resultado\n",
        "print(diccionario)\n"
      ],
      "metadata": {
        "id": "NBW4LuFvr33W"
      },
      "execution_count": null,
      "outputs": []
    },
    {
      "cell_type": "markdown",
      "source": [
        "3. Sean dos diccionarios\n",
        "d1 = {'a': 100, 'b': 200, 'c':300}\n",
        "d2 = {'a': 300, 'b': 200, 'd':400} se desea que se genere un tercero tal que de como\n",
        "resultado ({'a': 400, 'b': 400, 'd': 400, 'c': 300})\n"
      ],
      "metadata": {
        "id": "eSupLB7nr4D3"
      }
    },
    {
      "cell_type": "code",
      "source": [
        "# Diccionarios de ejemplo\n",
        "d1 = {'a': 100, 'b': 200, 'c': 300}\n",
        "d2 = {'a': 300, 'b': 200, 'd': 400}\n",
        "\n",
        "# Crear un diccionario resultante\n",
        "resultado = {}\n",
        "\n",
        "# Sumar los valores de d1\n",
        "for clave, valor in d1.items():\n",
        "    resultado[clave] = valor\n",
        "\n",
        "# Sumar los valores de d2\n",
        "for clave, valor in d2.items():\n",
        "    if clave in resultado:\n",
        "        resultado[clave] += valor\n",
        "    else:\n",
        "        resultado[clave] = valor\n",
        "\n",
        "# Imprimir el resultado\n",
        "print(resultado)\n"
      ],
      "metadata": {
        "id": "HxNhgslHr4ZH"
      },
      "execution_count": null,
      "outputs": []
    },
    {
      "cell_type": "markdown",
      "source": [
        "4. Escriba un programa que imprima todos los valores únicos de un diccionario, tal\n",
        "que [{\"V\":\"S001\"}, {\"V\": \"S002\"}, {\"VI\": \"S001\"}, {\"VI\": \"S005\"}, {\"VII\":\"S005\"},\n",
        "{\"V\":\"S009\"},{\"VIII\":\"S007\"}] imprima {'S005', 'S002', 'S007', 'S001', 'S009'}\n"
      ],
      "metadata": {
        "id": "BBk_89WusJrR"
      }
    },
    {
      "cell_type": "code",
      "source": [
        "# Lista de diccionarios de ejemplo\n",
        "lista_diccionarios = [\n",
        "    {\"V\": \"S001\"},\n",
        "    {\"V\": \"S002\"},\n",
        "    {\"VI\": \"S001\"},\n",
        "    {\"VI\": \"S005\"},\n",
        "    {\"VII\": \"S005\"},\n",
        "    {\"V\": \"S009\"},\n",
        "    {\"VIII\": \"S007\"}\n",
        "]\n",
        "\n",
        "# Crear un conjunto para almacenar los valores únicos\n",
        "valores_unicos = set()\n",
        "\n",
        "# Extraer los valores únicos\n",
        "for diccionario in lista_diccionarios:\n",
        "    for valor in diccionario.values():\n",
        "        valores_unicos.add(valor)\n",
        "\n",
        "# Imprimir el conjunto de valores únicos\n",
        "print(valores_unicos)\n"
      ],
      "metadata": {
        "id": "CuOMyTYlsJ94"
      },
      "execution_count": null,
      "outputs": []
    },
    {
      "cell_type": "markdown",
      "source": [
        "5. Desarrollar un programa que genere un diccionario de una palabra y cuente cuántas\n",
        "veces se repita la letra en la palabra. Ejemplo: La palabra “Anita” genera el\n",
        "diccionario {“A”: 2, ”n”:1, ”i”:1, ”t”:1}\n"
      ],
      "metadata": {
        "id": "UaQcH5GxsKOQ"
      }
    },
    {
      "cell_type": "code",
      "source": [
        "# Solicitar al usuario que ingrese una palabra\n",
        "palabra = input(\"Ingrese una palabra: \")\n",
        "\n",
        "# Crear un diccionario para contar las letras\n",
        "contador_letras = {}\n",
        "\n",
        "# Contar las letras en la palabra\n",
        "for letra in palabra:\n",
        "    # Convertir a minúscula para contar de manera insensible a mayúsculas\n",
        "    letra_lower = letra.lower()\n",
        "    if letra_lower in contador_letras:\n",
        "        contador_letras[letra_lower] += 1\n",
        "    else:\n",
        "        contador_letras[letra_lower] = 1\n",
        "\n",
        "# Imprimir el diccionario resultante\n",
        "print(contador_letras)\n"
      ],
      "metadata": {
        "id": "hdGRWuRqsKpb"
      },
      "execution_count": null,
      "outputs": []
    },
    {
      "cell_type": "markdown",
      "source": [
        "6. Desarrolle un programa que emule una caja registradora de 15 productos con sus\n",
        "respectivos precios. El programa debe generar una factura de compra y al final\n",
        "indicar al dueño del establecimiento:\n",
        "a. Cuántos productos se vendieron durante el día\n",
        "b. Cuál fue la ganancia total\n",
        "c. Cuál fue la mayor compra\n",
        "d. Cuántos clientes se atendieron en el día.\n",
        "e. El programa sólo puede realizarse con diccionarios."
      ],
      "metadata": {
        "id": "sbsecLvosWAu"
      }
    },
    {
      "cell_type": "code",
      "source": [
        "# Definir los productos y sus precios\n",
        "productos = {\n",
        "    \"Producto 1\": 10.0,\n",
        "    \"Producto 2\": 15.5,\n",
        "    \"Producto 3\": 7.25,\n",
        "    \"Producto 4\": 12.0,\n",
        "    \"Producto 5\": 20.0,\n",
        "    \"Producto 6\": 5.5,\n",
        "    \"Producto 7\": 30.0,\n",
        "    \"Producto 8\": 2.75,\n",
        "    \"Producto 9\": 9.99,\n",
        "    \"Producto 10\": 22.0,\n",
        "    \"Producto 11\": 18.5,\n",
        "    \"Producto 12\": 6.0,\n",
        "    \"Producto 13\": 25.0,\n",
        "    \"Producto 14\": 11.99,\n",
        "    \"Producto 15\": 3.5\n",
        "}\n",
        "\n",
        "# Variables para estadísticas\n",
        "total_vendidos = 0\n",
        "ganancia_total = 0.0\n",
        "mayor_compra = 0.0\n",
        "clientes_atendidos = 0\n",
        "\n",
        "# Simulación de atención a clientes\n",
        "while True:\n",
        "    print(\"\\nProductos disponibles:\")\n",
        "    for producto, precio in productos.items():\n",
        "        print(f\"{producto}: ${precio:.2f}\")\n",
        "\n",
        "    # Inicializar compra\n",
        "    compra = {}\n",
        "    while True:\n",
        "        # Solicitar al usuario que elija un producto\n",
        "        eleccion = input(\"Ingrese el nombre del producto para agregar a la compra (o 'fin' para terminar): \")\n",
        "        if eleccion.lower() == 'fin':\n",
        "            break\n",
        "        elif eleccion in productos:\n",
        "            cantidad = int(input(f\"Ingrese la cantidad de {eleccion}: \"))\n",
        "            compra[eleccion] = cantidad\n",
        "            total_vendidos += cantidad\n",
        "            ganancia_total += productos[eleccion] * cantidad\n",
        "        else:\n",
        "            print(\"Producto no encontrado. Intente de nuevo.\")\n",
        "\n",
        "    # Calcular el total de la compra\n",
        "    total_compra = sum(productos[producto] * cantidad for producto, cantidad in compra.items())\n",
        "    if total_compra > mayor_compra:\n",
        "        mayor_compra = total_compra\n",
        "\n",
        "    # Imprimir la factura\n",
        "    print(\"\\nFactura de compra:\")\n",
        "    for producto, cantidad in compra.items():\n",
        "        print(f\"{producto} x {cantidad} = ${productos[producto] * cantidad:.2f}\")\n",
        "    print(f\"Total de la compra: ${total_compra:.2f}\")\n",
        "\n",
        "    # Incrementar el contador de clientes\n",
        "    clientes_atendidos += 1\n",
        "\n",
        "    # Preguntar si el usuario quiere atender a otro cliente\n",
        "    otra_venta = input(\"¿Atender a otro cliente? (s/n): \")\n",
        "    if otra_venta.lower() != 's':\n",
        "        break\n",
        "\n",
        "# Imprimir estadísticas finales\n",
        "print(\"\\nEstadísticas del día:\")\n",
        "print(f\"Total de productos vendidos: {total_vendidos}\")\n",
        "print(f\"Ganancia total: ${ganancia_total:.2f}\")\n",
        "print(f\"Mayor compra: ${mayor_compra:.2f}\")\n",
        "print(f\"Clientes atendidos: {clientes_atendidos}\")\n"
      ],
      "metadata": {
        "id": "eIksHVPysWV1"
      },
      "execution_count": null,
      "outputs": []
    }
  ]
}