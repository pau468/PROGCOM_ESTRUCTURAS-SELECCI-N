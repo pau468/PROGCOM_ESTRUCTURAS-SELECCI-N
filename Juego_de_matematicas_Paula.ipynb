{
  "nbformat": 4,
  "nbformat_minor": 0,
  "metadata": {
    "colab": {
      "provenance": [],
      "authorship_tag": "ABX9TyNz8KR/CKKsaQePhKGunhgf",
      "include_colab_link": true
    },
    "kernelspec": {
      "name": "python3",
      "display_name": "Python 3"
    },
    "language_info": {
      "name": "python"
    }
  },
  "cells": [
    {
      "cell_type": "markdown",
      "metadata": {
        "id": "view-in-github",
        "colab_type": "text"
      },
      "source": [
        "<a href=\"https://colab.research.google.com/github/pau468/PROGCOM_ESTRUCTURAS-SELECCI-N/blob/main/Juego_de_matematicas_Paula.ipynb\" target=\"_parent\"><img src=\"https://colab.research.google.com/assets/colab-badge.svg\" alt=\"Open In Colab\"/></a>"
      ]
    },
    {
      "cell_type": "code",
      "execution_count": null,
      "metadata": {
        "colab": {
          "base_uri": "https://localhost:8080/"
        },
        "id": "L3I58kg3QSUO",
        "outputId": "802b09df-e5cf-486b-81d5-2e33596c41c2"
      },
      "outputs": [
        {
          "output_type": "stream",
          "name": "stdout",
          "text": [
            "Bienvenido al juego de matemáticas. Elige una operación:\n",
            "1. Suma\n",
            "2. Resta\n",
            "3. Multiplicación\n",
            "4. División\n",
            "5. Mixto (aleatorio)\n",
            "Ingresa el número de tu elección: 1\n",
            "¿Cuánto es 10 + 4?\n",
            "Tu respuesta: 14\n",
            "¡Correcto! Llevas 1 respuestas correctas seguidas.\n",
            "¿Cuánto es 65 + 49?\n"
          ]
        }
      ],
      "source": [
        "import random\n",
        "\n",
        "def generar_pregunta(operacion):\n",
        "    if operacion == 'suma':\n",
        "        a = random.randint(1, 100)\n",
        "        b = random.randint(1, 100)\n",
        "        respuesta = a + b\n",
        "        pregunta = f\"¿Cuánto es {a} + {b}?\"\n",
        "    elif operacion == 'resta':\n",
        "        a = random.randint(1, 100)\n",
        "        b = random.randint(1, 100)\n",
        "        respuesta = a - b\n",
        "        pregunta = f\"¿Cuánto es {a} - {b}?\"\n",
        "    elif operacion == 'multiplicación':\n",
        "        a = random.randint(1, 12)\n",
        "        b = random.randint(1, 12)\n",
        "        respuesta = a * b\n",
        "        pregunta = f\"¿Cuánto es {a} * {b}?\"\n",
        "    elif operacion == 'división':\n",
        "        b = random.randint(1, 12)\n",
        "        respuesta = random.randint(1, 12)\n",
        "        a = respuesta * b\n",
        "        pregunta = f\"¿Cuánto es {a} / {b}?\"\n",
        "    else:\n",
        "        raise ValueError(\"Operación no soportada\")\n",
        "    return pregunta, respuesta\n",
        "\n",
        "def juego_matematico():\n",
        "    print(\"Bienvenido al juego de matemáticas. Elige una operación:\")\n",
        "    print(\"1. Suma\")\n",
        "    print(\"2. Resta\")\n",
        "    print(\"3. Multiplicación\")\n",
        "    print(\"4. División\")\n",
        "    print(\"5. Mixto (aleatorio)\")\n",
        "\n",
        "    eleccion = input(\"Ingresa el número de tu elección: \")\n",
        "    operaciones = ['suma', 'resta', 'multiplicación', 'división']\n",
        "\n",
        "    if eleccion == '1':\n",
        "        operacion = 'suma'\n",
        "    elif eleccion == '2':\n",
        "        operacion = 'resta'\n",
        "    elif eleccion == '3':\n",
        "        operacion = 'multiplicación'\n",
        "    elif eleccion == '4':\n",
        "        operacion = 'división'\n",
        "    elif eleccion == '5':\n",
        "        operacion = 'mixto'\n",
        "    else:\n",
        "        print(\"Opción no válida. Inténtalo de nuevo.\")\n",
        "        return\n",
        "\n",
        "    contador_correctas = 0\n",
        "\n",
        "    while contador_correctas < 10:\n",
        "        if operacion == 'mixto':\n",
        "            operacion_aleatoria = random.choice(operaciones)\n",
        "            pregunta, respuesta_correcta = generar_pregunta(operacion_aleatoria)\n",
        "        else:\n",
        "            pregunta, respuesta_correcta = generar_pregunta(operacion)\n",
        "\n",
        "        print(pregunta)\n",
        "        respuesta_usuario = input(\"Tu respuesta: \")\n",
        "\n",
        "        if respuesta_usuario.isdigit() and int(respuesta_usuario) == respuesta_correcta:\n",
        "            contador_correctas += 1\n",
        "            print(f\"¡Correcto! Llevas {contador_correctas} respuestas correctas seguidas.\")\n",
        "        else:\n",
        "            print(f\"Incorrecto. La respuesta correcta era {respuesta_correcta}.\")\n",
        "            contador_correctas = 0  # Reinicia el contador\n",
        "\n",
        "    print(\"¡Felicidades! Respondiste correctamente a 10 preguntas seguidas y ganaste el juego.\")\n",
        "\n",
        "# Ejecuta el juego\n",
        "juego_matematico()\n"
      ]
    }
  ]
}