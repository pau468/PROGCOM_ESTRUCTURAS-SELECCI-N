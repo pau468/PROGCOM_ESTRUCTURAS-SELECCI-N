{
  "nbformat": 4,
  "nbformat_minor": 0,
  "metadata": {
    "colab": {
      "provenance": [],
      "include_colab_link": true
    },
    "kernelspec": {
      "name": "python3",
      "display_name": "Python 3"
    },
    "language_info": {
      "name": "python"
    }
  },
  "cells": [
    {
      "cell_type": "markdown",
      "metadata": {
        "id": "view-in-github",
        "colab_type": "text"
      },
      "source": [
        "<a href=\"https://colab.research.google.com/github/pau468/PROGCOM_ESTRUCTURAS-SELECCI-N/blob/main/Funciones_Clase_11_10_2024.ipynb\" target=\"_parent\"><img src=\"https://colab.research.google.com/assets/colab-badge.svg\" alt=\"Open In Colab\"/></a>"
      ]
    },
    {
      "cell_type": "markdown",
      "source": [
        "#FUNCIONES\n",
        "Conjunto de instrucciones que permiten alcanzar pequeños objetivos\n",
        "1. Reutilizar el código\n",
        "2. Simplificar el objetivo\n",
        "3. Facilitar la realización de pruebas\n",
        "\n",
        "Hay dos tipos: Anónimas y funciones\n",
        "\n",
        "##Anónimas:\n",
        "No tienen nombre y se llaman de acuerdo a la variable asignada. Se emplea el identificador lambda. Se declara lambda (variable): operación\n",
        "\n",
        "##Funciones:\n",
        "Necesitan de la palabra def(nombre_de_la_función):\n",
        "\n",
        "\n",
        "\n"
      ],
      "metadata": {
        "id": "tenhjVrmT-cd"
      }
    },
    {
      "cell_type": "code",
      "source": [
        "##PROGRAMA QUE PERMITA CALCULAR LA SUMA, RESTA, MULTIPLICACIÓN Y DIVISIÓN ENTRE DOS NÚMEROS\n",
        "\n",
        "#1.Pedir los dos números:\n",
        "x=int(input(\"Ingrese un número:\" ))\n",
        "y=int(input(\"Ingrese un número:\" ))\n",
        "c=x+y\n",
        "print(f\"La suma de {x} + {y} = {c}\")\n",
        "c=x-y\n",
        "print(f\"La resta de {x} - {y} = {c}\")\n",
        "c=x*y\n",
        "print(f\"La multiplicación de {x} * {y} = {c}\")\n",
        "c=x/y\n",
        "print(f\"La división de {x} / {y} = {c}\")"
      ],
      "metadata": {
        "id": "eeTrLVysXjz4"
      },
      "execution_count": null,
      "outputs": []
    },
    {
      "cell_type": "code",
      "source": [
        "def pedir_numeros():\n",
        "  x=int(input(\"Ingrese un número:\" ))\n",
        "  y=int(input(\"Ingrese un número:\" ))\n",
        "  return x,y"
      ],
      "metadata": {
        "id": "cA3hYlamWPsf"
      },
      "execution_count": null,
      "outputs": []
    },
    {
      "cell_type": "code",
      "source": [
        "a,b=pedir_numeros()\n",
        "print(a,b)\n",
        "## x y y son variables globales, a y b son variables locales (las funciones casi siempre usan variables locales)\n"
      ],
      "metadata": {
        "colab": {
          "base_uri": "https://localhost:8080/"
        },
        "id": "j4wD3mOWWu2v",
        "outputId": "552a4d15-befa-4a78-a4ca-69c06ca42e64"
      },
      "execution_count": null,
      "outputs": [
        {
          "output_type": "stream",
          "name": "stdout",
          "text": [
            "Ingrese un número:2\n",
            "Ingrese un número:3\n",
            "2 3\n"
          ]
        }
      ]
    },
    {
      "cell_type": "code",
      "source": [
        "def suma_V1(a,b): #a y b son los parámetros que se van a usar\n",
        "  return a+b"
      ],
      "metadata": {
        "id": "S83uH3cnX9mx"
      },
      "execution_count": null,
      "outputs": []
    },
    {
      "cell_type": "code",
      "source": [
        "suma_V1(x,y)"
      ],
      "metadata": {
        "id": "ixhKEDTvYI3f"
      },
      "execution_count": null,
      "outputs": []
    },
    {
      "cell_type": "code",
      "source": [
        "suma=lambda a,b: a+b #Función anónima"
      ],
      "metadata": {
        "id": "tuT1UeCPXvQw"
      },
      "execution_count": null,
      "outputs": []
    },
    {
      "cell_type": "code",
      "source": [
        "suma(a,b)"
      ],
      "metadata": {
        "id": "TYFTZl8ZX6do"
      },
      "execution_count": null,
      "outputs": []
    },
    {
      "cell_type": "code",
      "source": [
        "suma(x,y)"
      ],
      "metadata": {
        "id": "0zr-STbEYUXz"
      },
      "execution_count": null,
      "outputs": []
    },
    {
      "cell_type": "markdown",
      "source": [
        "EJEMPLO CON FUNCIONES"
      ],
      "metadata": {
        "id": "81icyzwsZnib"
      }
    },
    {
      "cell_type": "code",
      "source": [
        "def suma(x, y):\n",
        "    return x + y\n",
        "\n",
        "def resta(x, y):\n",
        "    return x - y\n",
        "\n",
        "def multiplicacion(x, y):\n",
        "    return x * y\n",
        "\n",
        "def division(x, y):\n",
        "    if y == 0:\n",
        "        return \"Error: No se puede dividir por cero\"\n",
        "    else:\n",
        "        return x / y\n",
        "\n",
        "def pedir_numeros():\n",
        "    num1 = float(input(\"Ingresa el primer número: \"))\n",
        "    num2 = float(input(\"Ingresa el segundo número: \"))\n",
        "    return num1, num2\n",
        "\n",
        "def menu():\n",
        "    print(\"\\n--- Menú de operaciones ---\")\n",
        "    print(\"1. Suma\")\n",
        "    print(\"2. Resta\")\n",
        "    print(\"3. Multiplicación\")\n",
        "    print(\"4. División\")\n",
        "    print(\"5. Salir\")\n",
        "\n",
        "def calculadora():\n",
        "    menu()\n",
        "    opcion = input(\"Elige una operación (1/2/3/4): \")\n",
        "\n",
        "    if opcion in ['1', '2', '3', '4']:\n",
        "        num1, num2 = pedir_numeros()\n",
        "\n",
        "        if opcion == '1':\n",
        "            print(f\"La suma de {num1} + {num2} = {suma(num1, num2)}\")\n",
        "        elif opcion == '2':\n",
        "            print(f\"La resta de {num1} - {num2} = {resta(num1, num2)}\")\n",
        "        elif opcion == '3':\n",
        "            print(f\"La multiplicación de {num1} * {num2} = {multiplicacion(num1, num2)}\")\n",
        "        elif opcion == '4':\n",
        "            resultado_division = division(num1, num2)\n",
        "            if resultado_division == \"Error: No se puede dividir por cero\":\n",
        "                print(resultado_division)\n",
        "            else:\n",
        "                print(f\"La división de {num1} / {num2} = {resultado_division}\")\n",
        "    else:\n",
        "        print(\"Opción inválida. El programa finalizará.\")\n",
        "\n",
        "calculadora()\n",
        "print(\"Programa finalizado.\")\n"
      ],
      "metadata": {
        "colab": {
          "base_uri": "https://localhost:8080/"
        },
        "id": "R5e43A6BZCGl",
        "outputId": "80f7ab69-27ad-4f94-be05-f7ed4cff596e"
      },
      "execution_count": null,
      "outputs": [
        {
          "output_type": "stream",
          "name": "stdout",
          "text": [
            "\n",
            "--- Menú de operaciones ---\n",
            "1. Suma\n",
            "2. Resta\n",
            "3. Multiplicación\n",
            "4. División\n",
            "5. Salir\n",
            "Elige una operación (1/2/3/4): 3\n",
            "Ingresa el primer número: 4\n",
            "Ingresa el segundo número: 3\n",
            "La multiplicación de 4.0 * 3.0 = 12.0\n",
            "Programa finalizado.\n"
          ]
        }
      ]
    },
    {
      "cell_type": "markdown",
      "source": [
        "EJEMPLO CON FUNCIONES ANÓNIMAS"
      ],
      "metadata": {
        "id": "S4v32e5VZuic"
      }
    },
    {
      "cell_type": "code",
      "source": [
        "\n",
        "suma = lambda x, y: x + y\n",
        "resta = lambda x, y: x - y\n",
        "multiplicacion = lambda x, y: x * y\n",
        "division = lambda x, y: x / y if y != 0 else \"Error: División por cero\"\n",
        "\n",
        "pedir_numeros = lambda: (float(input(\"Ingresa el primer número: \")), float(input(\"Ingresa el segundo número: \")))\n",
        "\n",
        "menu = lambda: print(\"\\n--- Menú de operaciones ---\\n1. Suma\\n2. Resta\\n3. Multiplicación\\n4. División\\n5. Salir\")\n",
        "\n",
        "calculadora = lambda: (\n",
        "    menu(),\n",
        "    (lambda opcion:\n",
        "        (lambda num1, num2:\n",
        "            (print(f\"La suma de {num1} + {num2} = {suma(num1, num2)}\") if opcion == '1' else\n",
        "             print(f\"La resta de {num1} - {num2} = {resta(num1, num2)}\") if opcion == '2' else\n",
        "             print(f\"La multiplicación de {num1} * {num2} = {multiplicacion(num1, num2)}\") if opcion == '3' else\n",
        "             print(f\"La división de {num1} / {num2} = {division(num1, num2)}\"))\n",
        "        )(pedir_numeros()) if opcion in ['1', '2', '3', '4'] else\n",
        "        (print(\"Saliendo del programa. ¡Adiós!\") if opcion == '5' else print(\"Opción inválida.\"))\n",
        "    )(input(\"Elige una operación (1/2/3/4/5): \"))\n",
        ")\n",
        "\n",
        "while True:\n",
        "    calculadora()\n",
        "    if input(\"¿Deseas realizar otra operación? (s/n): \").lower() != 's':\n",
        "        break\n"
      ],
      "metadata": {
        "id": "feM1RBGhZFSq"
      },
      "execution_count": null,
      "outputs": []
    }
  ]
}