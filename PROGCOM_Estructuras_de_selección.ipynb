{
  "nbformat": 4,
  "nbformat_minor": 0,
  "metadata": {
    "colab": {
      "provenance": [],
      "authorship_tag": "ABX9TyO9K73O5iWflPrAstMgwFwC",
      "include_colab_link": true
    },
    "kernelspec": {
      "name": "python3",
      "display_name": "Python 3"
    },
    "language_info": {
      "name": "python"
    }
  },
  "cells": [
    {
      "cell_type": "markdown",
      "metadata": {
        "id": "view-in-github",
        "colab_type": "text"
      },
      "source": [
        "<a href=\"https://colab.research.google.com/github/pau468/PROGCOM_ESTRUCTURAS-SELECCI-N/blob/main/PROGCOM_Estructuras_de_selecci%C3%B3n.ipynb\" target=\"_parent\"><img src=\"https://colab.research.google.com/assets/colab-badge.svg\" alt=\"Open In Colab\"/></a>"
      ]
    },
    {
      "cell_type": "code",
      "execution_count": 1,
      "metadata": {
        "colab": {
          "base_uri": "https://localhost:8080/"
        },
        "id": "BhGfym1sN0em",
        "outputId": "2b8f7844-22fd-4b12-928e-a63e4037da49"
      },
      "outputs": [
        {
          "output_type": "stream",
          "name": "stdout",
          "text": [
            "Ingrese el dividiendo5\n",
            "Ingrese el divisor 0\n",
            "Infinito\n"
          ]
        }
      ],
      "source": [
        "a=int(input(\"Ingrese el dividiendo\"))\n",
        "b=int(input(\"Ingrese el divisor \"))\n",
        "try:\n",
        "  division=a/b\n",
        "  print(f\"{a}/{b}={división}\")\n",
        "except ZeroDivisionError:\n",
        "  print(\"Infinito\")"
      ]
    },
    {
      "cell_type": "markdown",
      "source": [
        "Hacer un programa que te pregunte si quiere helado. Si la respuesta es que si , qué sabor de helado."
      ],
      "metadata": {
        "id": "7AzSIQVkPnI-"
      }
    },
    {
      "cell_type": "code",
      "source": [
        "a=input(\"Quieres helado?\")\n",
        "a=a[0].lower()\n",
        "if a==\"s\":\n",
        "  f=input(\"Que sabor quieres?\")\n",
        "  if f==\"chocolate\": print(f\"Aquí esta su helado de {f}. Me debe 5000\")\n",
        "  elif f==\"vainilla\": print(f\"Aquí esta su helado de {f}. Me debe 4000\")\n",
        "  elif f==\"fresa\":print(f\"Aquí esta su helado de {f}. Me debe 10000\")\n",
        "  elif f==\"Ron con pasas\":print(f\"Aquí esta su helado de {f}. Me debe 7000\")\n",
        "  else: print (\"Lo siento, no tenemos ese sabor\")\n",
        "else:\n",
        "  print(\"Esta bien\")"
      ],
      "metadata": {
        "colab": {
          "base_uri": "https://localhost:8080/"
        },
        "id": "ZvPyCsvVPy23",
        "outputId": "934c6323-7f0b-4a76-8c2a-365a83cc343b"
      },
      "execution_count": 4,
      "outputs": [
        {
          "output_type": "stream",
          "name": "stdout",
          "text": [
            "Quieres helado?si\n",
            "Que sabor quieres?vainilla\n",
            "Aquí esta su helado de vainilla. Me debe 4000\n"
          ]
        }
      ]
    },
    {
      "cell_type": "code",
      "source": [
        "a=input(\"Quieres helado?\")\n",
        "a=a[0].lower()\n",
        "if a==\"s\":\n",
        "  f=input(\"Que sabor quieres?\")\n",
        "  match f:\n",
        "    case\"chocolate\": print(f\"Aquí esta su helado de {f}. Me debe 5000\")\n",
        "    case\"vainilla\": print(f\"Aquí esta su helado de {f}. Me debe 4000\")\n",
        "    case\"fresa\":print(f\"Aquí esta su helado de {f}. Me debe 10000\")\n",
        "    case\"Ron con pasas\":print(f\"Aquí esta su helado de {f}. Me debe 7000\")\n",
        "    case _: print (\"Lo siento, no tenemos ese sabor\")\n",
        "else:\n",
        "  print(\"Esta bien\")"
      ],
      "metadata": {
        "colab": {
          "base_uri": "https://localhost:8080/"
        },
        "id": "uaW5bLIoQOBl",
        "outputId": "7c692dd7-b0f6-4919-efa6-29dc8a42ce2b"
      },
      "execution_count": 5,
      "outputs": [
        {
          "output_type": "stream",
          "name": "stdout",
          "text": [
            "Quieres helado?si\n",
            "Que sabor quieres?fresa\n",
            "Aquí esta su helado de fresa. Me debe 10000\n"
          ]
        }
      ]
    },
    {
      "cell_type": "code",
      "source": [
        "# Función para determinar si una letra es una vocal mayúscula o minúscula\n",
        "def determinar_vocal(letra):\n",
        "    vocales_mayusculas = 'AEIOU'\n",
        "    vocales_minusculas = 'aeiou'\n",
        "\n",
        "    if letra in vocales_mayusculas:\n",
        "        return \"La letra es una vocal mayúscula.\"\n",
        "    elif letra in vocales_minusculas:\n",
        "        return \"La letra es una vocal minúscula.\"\n",
        "    else:\n",
        "        return \"La letra no es una vocal.\"\n",
        "\n",
        "# Solicitar entrada al usuario\n",
        "letra = input(\"Introduce una letra: \")\n",
        "\n",
        "\n",
        "\n",
        "print(resultado)"
      ],
      "metadata": {
        "colab": {
          "base_uri": "https://localhost:8080/"
        },
        "id": "12UURbNoUhf0",
        "outputId": "2e727c52-330d-462b-e2e3-36516f03a0d0"
      },
      "execution_count": 12,
      "outputs": [
        {
          "output_type": "stream",
          "name": "stdout",
          "text": [
            "Introduce una letra: e\n",
            "La letra es una vocal minúscula.\n"
          ]
        }
      ]
    },
    {
      "cell_type": "code",
      "source": [
        "def determinar_vocal(letra):\n",
        "    match letra:\n",
        "        case 'A' | 'E' | 'I' | 'O' | 'U':\n",
        "            return \"La letra es una vocal mayúscula.\"\n",
        "        case 'a' | 'e' | 'i' | 'o' | 'u':\n",
        "            return \"La letra es una vocal minúscula.\"\n",
        "        case _:\n",
        "            return \"La letra no es una vocal.\"\n",
        "\n",
        "# Solicitar entrada al usuario\n",
        "letra = input(\"Introduce una letra: \")\n",
        "\n",
        "\n",
        "print(resultado)"
      ],
      "metadata": {
        "colab": {
          "base_uri": "https://localhost:8080/"
        },
        "id": "G-hk36D-V_3T",
        "outputId": "5d31bc5e-0b8b-4dad-d579-54c2dd4b94f3"
      },
      "execution_count": 11,
      "outputs": [
        {
          "output_type": "stream",
          "name": "stdout",
          "text": [
            "Introduce una letra: a\n",
            "La letra es una vocal minúscula.\n"
          ]
        }
      ]
    },
    {
      "cell_type": "code",
      "source": [],
      "metadata": {
        "id": "6D1pFLbGWr5J"
      },
      "execution_count": null,
      "outputs": []
    },
    {
      "cell_type": "code",
      "source": [
        "#Match\n",
        "letra - input(\"Ingrese una letra:\")\n",
        "match letra:\n",
        "  case \"a\" | \"e\" | \"i\" | \"o\" | \"u\":\n",
        "    print(\"Es una vocal minúscula\")\n",
        "  case \"A\" | \"E\" | \"I\" | \"O\" | \"U\":\n",
        "    print(\"Es una vocal mayúscula\")\n",
        "  case _:\n",
        "    print(\"No es una vocal\")\n",
        "\n",
        "\n",
        "#Elif\n",
        "letra - input(\"Ingrese una letra:\")\n",
        "if letra in 'aeiou':\n",
        "    print(\"Es una vocal minúscula\")\n",
        "elif letra in 'AEIOU':\n",
        "    print(\"Es una vocal mayúscula\")\n",
        "else:\n",
        "    print(\"No es una vocal\")\n",
        "\n",
        "\n"
      ],
      "metadata": {
        "id": "N_WzPImaanFQ"
      },
      "execution_count": null,
      "outputs": []
    },
    {
      "cell_type": "code",
      "source": [
        "numero = 4  # Ejemplo de número\n",
        "\n",
        "if numero < 0 or numero > 9:\n",
        "    print(\"El número no pertenece al rango 0-9\")\n",
        "elif numero % 2 == 0:\n",
        "    print(\"El número es par\")\n",
        "else:\n",
        "    print(\"El número es impar\")"
      ],
      "metadata": {
        "id": "2ThEvvGxf5rV"
      },
      "execution_count": null,
      "outputs": []
    },
    {
      "cell_type": "code",
      "source": [
        "numero = 4  # Ejemplo de número\n",
        "\n",
        "match numero:\n",
        "    case n if n < 0 or n > 9:\n",
        "        print(\"El número no pertenece al rango 0-9\")\n",
        "    case n if n % 2 == 0:\n",
        "        print(\"El número es par\")\n",
        "    case _:\n",
        "        print(\"El número es impar\")"
      ],
      "metadata": {
        "id": "Cp38pUEjf6qz"
      },
      "execution_count": null,
      "outputs": []
    },
    {
      "cell_type": "code",
      "source": [
        "a, b, c, d, e = 5, 3, 8, 1, 7  # Ejemplo de números\n",
        "\n",
        "print(\"Los números no son diferentes\") if len({a, b, c, d, e}) != 5 else print(f\"El mayor número es: {a if a > b and a > c and a > d and a > e else b if b > c and b > d and b > e else c if c > d and c > e else d if d > e else e}\")"
      ],
      "metadata": {
        "id": "g3TQsNovgK-D"
      },
      "execution_count": null,
      "outputs": []
    },
    {
      "cell_type": "code",
      "source": [
        "edad1, edad2, edad3 = 16, 21, 10  # Ejemplo de edades\n",
        "\n",
        "mayor = edad1 if edad1 > edad2 and edad1 > edad3 else edad2 if edad2 > edad3 else edad3\n",
        "print(f\"La mayor edad es: {mayor}, Categoría: {'Adulto' if mayor >= 18 else 'Adolescente' if mayor >= 13 else 'Niño'}\")"
      ],
      "metadata": {
        "id": "TWu0iknUgMTk"
      },
      "execution_count": null,
      "outputs": []
    }
  ]
}